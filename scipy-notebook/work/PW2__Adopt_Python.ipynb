{
 "cells": [
  {
   "cell_type": "markdown",
   "metadata": {},
   "source": [
    "# PW1 : Adopt Python\n",
    "## Beginning\n",
    "### [Jupyter](http://jupyter-notebook.readthedocs.io/en/latest/index.html)\n",
    "The Jupyter Notebook is an interactive computing environment that enables users to author notebook documents that include: - Live code - Interactive widgets - Plots - Narrative text - Equations - Images - Video\n",
    "### [Pandas](http://pandas.pydata.org/pandas-docs/stable/)\n",
    "*pandas* is an open source, BSD-licensed library providing high-performance, easy-to-use data structures and data analysis tools for the Python programming language.\n",
    "### [Matplotlib](https://matplotlib.org/contents.html)\n",
    "Matplotlib is a Python 2D plotting library which produces publication quality figures in a variety of hardcopy formats and interactive environments across platforms. Matplotlib can be used in Python scripts, the Python and IPython shell, the jupyter notebook, web application servers, and four graphical user interface toolkits.\n",
    "\n",
    "## Quests\n",
    "- Load the CSV 'ashoka' and manipulate data with Pandas (hint : DataFrame)\n",
    "- Do some visualisations with your newly created DataFrame"
   ]
  },
  {
   "cell_type": "markdown",
   "metadata": {},
   "source": [
    "## 1. Import librairies\n",
    "We are going to use \"pandas\" for import data and manipulate it.\n",
    "And then for the visualisation, we will use matplotlib.\n",
    "\n",
    "You have to understand It exists thousand of librairies for visualation.\n",
    "Here, pandas works very well with matplotlib."
   ]
  },
  {
   "cell_type": "code",
   "execution_count": 6,
   "metadata": {
    "collapsed": true
   },
   "outputs": [],
   "source": [
    "# Allow matplotlib to show visualation in Jupyter\n",
    "\n",
    "#import pandas and matplotlib\n"
   ]
  },
  {
   "cell_type": "markdown",
   "metadata": {},
   "source": [
    "## 2. Loading CSV's data\n",
    "\n",
    "Our data is in a CSV file (like excel).\n",
    "Luckly the librairy Pandas has a special function to read a CSV.\n",
    "Once your data is read, you can structure them with Pandas using data strucuture ! \n",
    "* [Link on csv reader](https://pandas.pydata.org/pandas-docs/stable/generated/pandas.read_csv.html)\n",
    "* [Link on DataFrame](http://pandas.pydata.org/pandas-docs/stable/generated/pandas.DataFrame.html)\n",
    "\n",
    "### Load data\n",
    "\n",
    " 1. Read CSV data\n",
    " 2. Create a Pandas DataFrame with those data\n",
    " 3. Display the data\n",
    " \n",
    "#### Do it yourself"
   ]
  },
  {
   "cell_type": "code",
   "execution_count": 5,
   "metadata": {
    "collapsed": true
   },
   "outputs": [],
   "source": [
    "# Read CSV file named \"ashoka.csv\". Put its content in a variable\n",
    "\n",
    "# Use DataFrame method to create the data structure. Put it in a variable.\n",
    "\n",
    "# Display the DataFrame variable\n"
   ]
  },
  {
   "cell_type": "markdown",
   "metadata": {},
   "source": [
    "## 3. Visualize data\n",
    "\n",
    "Once your data are loading and structured, **we can start the visualisation**.\n",
    "You can check this documentation for graphics with pandas ([HERE](https://pandas.pydata.org/pandas-docs/stable/generated/pandas.DataFrame.plot.html))\n",
    "\n",
    "### Gender\n",
    "First, we'll visualize the number of person by gender:\n",
    " 1. Count the number of people by gender\n",
    " 2. Display a pie chart\n",
    " 3. Show the percentage in the pie\n",
    " 4. Do the same with one line of code\n",
    " \n",
    "#### Do it yourself\n"
   ]
  },
  {
   "cell_type": "code",
   "execution_count": 4,
   "metadata": {
    "collapsed": true,
    "scrolled": false
   },
   "outputs": [],
   "source": [
    "# Use value_counts() method to count people by gender. Put result in variable.\n",
    "\n",
    "# Display a pie chart using plot() method and previous variable. Use parameters to add percentage.\n",
    "\n",
    "\n",
    "#Do the same without using variable.\n"
   ]
  },
  {
   "cell_type": "markdown",
   "metadata": {},
   "source": [
    "### Favorite color\n",
    "\n",
    "Next, we'll display people's favorites colors \n",
    "1. Show people's favorites colors in a barchart \n",
    "2. Change the bar's default color\n",
    "\n",
    "#### Do it yourself"
   ]
  },
  {
   "cell_type": "code",
   "execution_count": 3,
   "metadata": {
    "collapsed": true
   },
   "outputs": [],
   "source": [
    "# Count color's values and use plot() methode to display a green bar graph\n"
   ]
  },
  {
   "cell_type": "markdown",
   "metadata": {},
   "source": [
    "### Height\n",
    "\n",
    "Then, we'll display people's height\n",
    "1. Display minimum, maximum, quartiles and median of the height\n",
    "\n",
    "#### Do it yourself"
   ]
  },
  {
   "cell_type": "code",
   "execution_count": 2,
   "metadata": {
    "collapsed": true
   },
   "outputs": [],
   "source": [
    "# Use plot method to display a boxplot of height\n"
   ]
  },
  {
   "cell_type": "markdown",
   "metadata": {},
   "source": [
    "###\tCorrelation with feeling and sleep (difficult)\n",
    "Let's do a correlation between feeling and sleep. Like that we could know if the sleep affect the feelings.\n",
    "\n",
    "You can do this in multiple way : \n",
    "- with multiple boxplots\n",
    "- multiple histograms\n",
    "- one graph with multiple histograms inside\n",
    "\n",
    "Tips : \n",
    "- You can do this <pre>df[['thing', 'else']]</pre>\n",
    "- Check the [documentation](https://pandas.pydata.org/pandas-docs/stable/visualization.html#histograms)"
   ]
  },
  {
   "cell_type": "code",
   "execution_count": 1,
   "metadata": {
    "collapsed": true
   },
   "outputs": [],
   "source": [
    "#Use multiple key for viz\n",
    "#multiple boxplots\n",
    "\n",
    "#multiple hist\n",
    "\n",
    "\n",
    "#one graph multiple hist\n"
   ]
  }
 ],
 "metadata": {
  "kernelspec": {
   "display_name": "Python 3",
   "language": "python",
   "name": "python3"
  },
  "language_info": {
   "codemirror_mode": {
    "name": "ipython",
    "version": 3
   },
   "file_extension": ".py",
   "mimetype": "text/x-python",
   "name": "python",
   "nbconvert_exporter": "python",
   "pygments_lexer": "ipython3",
   "version": "3.5.2"
  }
 },
 "nbformat": 4,
 "nbformat_minor": 2
}
