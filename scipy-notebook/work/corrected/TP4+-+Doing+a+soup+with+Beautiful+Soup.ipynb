{
 "cells": [
  {
   "cell_type": "markdown",
   "metadata": {},
   "source": [
    "# TP4 : Doing a soup with Beautiful Soup\n",
    "\n",
    "## Beginning\n",
    "\n",
    "### [Beautiful Soup](https://www.crummy.com/software/BeautifulSoup/bs4/doc/)\n",
    "Beautiful Soup is a Python library for pulling data out of HTML and XML files. It works with your favorite parser to provide idiomatic ways of navigating, searching, and modifying the parse tree. It commonly saves programmers hours or days of work.\n",
    "\n",
    "# Quests\n",
    "- Scrap one table and put the result in a CSV\n",
    "- Scrap another table and using Pandas (PW1) to manipulate those data (plotting)\n",
    "- Scrap all the table in the page \n",
    "\n",
    "\n",
    "## Target\n",
    "\n",
    "We'll try to scrap data from Dehli MCD Election from this URL http://www.elections.in/delhi/mcd-elections/\n",
    "\n",
    "\n",
    "## Importing librairies\n",
    "Here, we are going to use 3 differents librairies :\n",
    "- `urllib` to go to the webpage and get all the page (GET request)\n",
    "- `BeautifulSoup` for reading the HTML file\n",
    "- `csv` to write the result inside a CSV"
   ]
  },
  {
   "cell_type": "code",
   "execution_count": 79,
   "metadata": {
    "collapsed": true
   },
   "outputs": [],
   "source": [
    "from bs4 import BeautifulSoup\n",
    "import urllib\n",
    "import csv"
   ]
  },
  {
   "cell_type": "markdown",
   "metadata": {},
   "source": [
    "## Get the web page\n",
    "\n",
    "Our data are in webpage, organized with HTML markups which we can see in web browser. We'll download the webpage and parse it to get data.\n",
    "\n",
    "### Docs:\n",
    "* urllib request: https://docs.python.org/3.4/library/urllib.request.html#module-urllib.request\n",
    "* BeautifulSoup Quickstart: https://www.crummy.com/software/BeautifulSoup/bs4/doc/#quick-start\n",
    "\n",
    "\n",
    "### Download data\n",
    "\n",
    " 1. Perform a request to the specific URL and put the HTML page inside a variable.\n",
    " 2. Parse HTML data received before\n",
    " 3. Display title of the page\n",
    " \n",
    "#### Do it yourself"
   ]
  },
  {
   "cell_type": "code",
   "execution_count": 86,
   "metadata": {},
   "outputs": [
    {
     "name": "stdout",
     "output_type": "stream",
     "text": [
      "Delhi MCD Election Results 2017, Party and Ward Wise\n"
     ]
    }
   ],
   "source": [
    "# Put URL in a variable\n",
    "DEHLI_MCD_URL = 'http://www.elections.in/delhi/mcd-elections/'\n",
    "# Open URL with urllib and read data into a variable\n",
    "html = urllib.request.urlopen(DEHLI_MCD_URL).read()\n",
    "# Parse HTML variable with BeautifulSoup() method and put it in a variable\n",
    "soup = BeautifulSoup(html, 'html.parser')\n",
    "# Use print function to display \"title\" field of the webpage.\n",
    "print(soup.title.string)"
   ]
  },
  {
   "cell_type": "markdown",
   "metadata": {},
   "source": [
    "## Scraping\n",
    "\n",
    "You can choose any markup you want in this page. For that you to stay close of the \"code source view\" of the page to know which explicit markup you want to scrap.\n",
    "\n",
    "### Docs\n",
    "* BeaufifulSoup find functions: https://www.crummy.com/software/BeautifulSoup/bs4/doc/#calling-a-tag-is-like-calling-find-all\n",
    "\n",
    "\n",
    "### Scrap it !\n",
    "\n",
    " 1. Display the number of `<table>` statement in the page\n",
    " 2. Scrap the table \"Delhi Municipal Corporation Wards and Seats Reservation\" (which is the seventh `<table>` in HTML)\n",
    " 3. Display the data\n",
    "\n",
    "#### Do it yourself\n"
   ]
  },
  {
   "cell_type": "code",
   "execution_count": 110,
   "metadata": {
    "scrolled": true
   },
   "outputs": [
    {
     "name": "stdout",
     "output_type": "stream",
     "text": [
      "11\n",
      "[<tr class=\"tableizer-firstrow\"><th>Municipal Corporation Name</th><th>Total Wards</th><th>Seats for General Candidates</th><th>Seats reserved for Woman (SC)</th><th>Seats reserved for SCs</th><th>Seats reserved for Woman</th></tr>, <tr><td>North</td><td>104</td><td>42</td><td>10</td><td>10</td><td>42</td></tr>, <tr><td>South</td><td>104</td><td>44</td><td>8</td><td>7</td><td>45</td></tr>, <tr><td>East</td><td>64</td><td>26</td><td>6</td><td>5</td><td>27</td></tr>]\n"
     ]
    }
   ],
   "source": [
    "# Find all the <table> markups in the HTML with findAll() function and put them in a variable\n",
    "tables = soup.findAll('table')\n",
    "# Print the number of tables in the page with len() method\n",
    "print(len(tables))\n",
    "# Get the seventh table using previous variable (careful: tables's ids start from 0). Put it in a variable.\n",
    "table = tables[6]\n",
    "# Find all rows (<tr> markups>) of the table, using the variable created before\n",
    "rows = table.findAll('tr')\n",
    "# Optionnal: Print raw data to verify what you have scrapped. \n",
    "print(rows)"
   ]
  },
  {
   "cell_type": "markdown",
   "metadata": {},
   "source": [
    "## Export your data\n",
    "\n",
    "With those data you can export them in a file to work with your favorite software. We'll see how to export them to a CSV file which a simple format and can be used with many softwares.\n",
    "\n",
    "### Docs\n",
    "\n",
    "* Manipulate CSV file: https://docs.python.org/2/library/csv.html\n",
    "* Python Data structures: https://docs.python.org/3.4/library/urllib.request.html#module-urllib.request\n",
    "\n",
    "### Writing CSV file\n",
    "\n",
    "1. Open a CSV file with write rule\n",
    "2. Write data in the file\n",
    "\n",
    "\n",
    "#### Do it yourself"
   ]
  },
  {
   "cell_type": "code",
   "execution_count": 113,
   "metadata": {
    "collapsed": true
   },
   "outputs": [],
   "source": [
    "# open a CSV file with open() function\n",
    "with open('scraping_output.csv', 'w') as csvfile:\n",
    "# Use csv library to open writer handle with opened file\n",
    "    writer = csv.writer(csvfile)\n",
    "# Make a loop to extract rows data in tuple, then write it to handle   \n",
    "    for i in rows:\n",
    "        data = tuple(td.text for td in i)\n",
    "        writer.writerow(data)\n",
    "# Check your file in Jupyter's work folder"
   ]
  },
  {
   "cell_type": "markdown",
   "metadata": {},
   "source": [
    "## Use your data\n",
    "\n",
    "Now you have web page selected data in a variable or a file, you can use them to make visualization like we've seen in `TP1 - Adopt Python`\n",
    "\n",
    "### Docs\n",
    "\n",
    "* See `TP1 - Adopt Python`\n",
    "* Pandas Area Plot: https://pandas.pydata.org/pandas-docs/stable/visualization.html#area-plot\n",
    "\n",
    "### Visualize\n",
    "\n",
    " 1. Open your created CSV file \n",
    " 2. Organize data\n",
    " 3. Do a vizualization of some fields\n",
    "\n",
    "#### Do it yourself"
   ]
  },
  {
   "cell_type": "code",
   "execution_count": 135,
   "metadata": {},
   "outputs": [
    {
     "data": {
      "text/plain": [
       "<matplotlib.axes._subplots.AxesSubplot at 0x7f2ec00486d8>"
      ]
     },
     "execution_count": 135,
     "metadata": {},
     "output_type": "execute_result"
    },
    {
     "data": {
      "image/png": "[encoded data removed]",
      "text/plain": [
       "<matplotlib.figure.Figure at 0x7f2e9c617f28>"
      ]
     },
     "metadata": {},
     "output_type": "display_data"
    }
   ],
   "source": [
    "# Allow matplotlib to show visualation in Jupyter\n",
    "%matplotlib inline\n",
    "#import pandas and matplotlib\n",
    "import pandas as pd\n",
    "import matplotlib.pyplot as plt\n",
    "\n",
    "# Read CSV file created before. Put its content in a variable\n",
    "data = pd.read_csv('scraping_output.csv')\n",
    "# Use DataFrame method to create the data structure. Put it in a variable.\n",
    "df = pd.DataFrame(data)\n",
    "# Select all columns except 'Total Wards'. Put it in a variable.\n",
    "columns = df.drop('Total Wards', axis=1)\n",
    "# Display an area plot by 'Municipal Corporation Name'\n",
    "columns.plot.area(x=df['Municipal Corporation Name'])\n"
   ]
  }
 ],
 "metadata": {
  "kernelspec": {
   "display_name": "Python 3",
   "language": "python",
   "name": "python3"
  },
  "language_info": {
   "codemirror_mode": {
    "name": "ipython",
    "version": 3
   },
   "file_extension": ".py",
   "mimetype": "text/x-python",
   "name": "python",
   "nbconvert_exporter": "python",
   "pygments_lexer": "ipython3",
   "version": "3.5.2"
  }
 },
 "nbformat": 4,
 "nbformat_minor": 2
}
